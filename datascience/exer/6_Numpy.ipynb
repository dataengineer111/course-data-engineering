{
 "cells": [
  {
   "cell_type": "code",
   "execution_count": 1,
   "id": "6cc20e00-165c-4d41-b273-1296fbc1e582",
   "metadata": {},
   "outputs": [],
   "source": [
    "\"\"\"\n",
    "Numpy\n",
    "\"\"\"\n",
    "# 다차원 배열(ndarray)을 저장, 처리\n",
    "#  pip install numpy - 패키지 설치\n",
    "#  import numpy as np - 패키지 사용하기\n",
    "\n",
    "import numpy as np\n",
    "import pandas as pd\n",
    "from matplotlib import pyplot as plt\n"
   ]
  },
  {
   "cell_type": "code",
   "execution_count": 9,
   "id": "d0197bf3-0c6d-469c-b0da-1ab36746750e",
   "metadata": {},
   "outputs": [
    {
     "name": "stdout",
     "output_type": "stream",
     "text": [
      "['1.5' '2.3' '6.4' 'string']\n"
     ]
    }
   ],
   "source": [
    "# Creating a numpy array\n",
    "list = [1.5, 2.3, 6.4, \"string\"]\n",
    "\n",
    "arr = np.array(list)  #값을 직접 입력해도 가능 ex) [1,2,3,4]\n",
    "print(arr)"
   ]
  },
  {
   "cell_type": "code",
   "execution_count": 11,
   "id": "bf7b5365-ea16-4a4d-876c-e38381ec960f",
   "metadata": {},
   "outputs": [
    {
     "name": "stdout",
     "output_type": "stream",
     "text": [
      "<U32\n"
     ]
    }
   ],
   "source": [
    "# .dtype attribute\n",
    "print(arr.dtype)"
   ]
  },
  {
   "cell_type": "code",
   "execution_count": 16,
   "id": "02f87ab6-af77-4c09-9432-d26b55b65f8d",
   "metadata": {},
   "outputs": [
    {
     "name": "stdout",
     "output_type": "stream",
     "text": [
      "64\n",
      "108\n"
     ]
    }
   ],
   "source": [
    "\"\"\"\n",
    "Size Comparison of ndarray and list objects\n",
    "\"\"\"\n",
    "from sys import getsizeof\n",
    "\n",
    "lst = [1]\n",
    "print(getsizeof(lst)) #56 -> 64: int+object meta info\n",
    "\n",
    "arr = np.array(lst)\n",
    "print(getsizeof(arr)) #104->108: int(4byte)"
   ]
  },
  {
   "cell_type": "code",
   "execution_count": 18,
   "id": "c55e6646-1004-4859-8bc0-27d544a3974b",
   "metadata": {},
   "outputs": [
    {
     "name": "stdout",
     "output_type": "stream",
     "text": [
      "[25, 20, 35, 15, 15, 30, 45, 30]\n",
      "[25 20 35 15 15 30 45 30]\n"
     ]
    }
   ],
   "source": [
    "\"\"\"\n",
    "Operation with Numpy Arrays\n",
    "\"\"\"\n",
    "prices = [30, 25, 40, 20, 20, 35, 50 ,35]\n",
    "\n",
    "new_prices = [price-5 for price in prices]\n",
    "print(new_prices)\n",
    "\n",
    "# with a ndarray\n",
    "prices_arr = np.array(prices)\n",
    "prices_arr = prices_arr - 5\n",
    "print(prices_arr)"
   ]
  },
  {
   "cell_type": "code",
   "execution_count": 47,
   "id": "cb5f44a4-433b-4ac8-a6db-713298f1a069",
   "metadata": {},
   "outputs": [
    {
     "name": "stdout",
     "output_type": "stream",
     "text": [
      "[89 87 74 92 94]\n",
      "[258 279 246 274 270]\n",
      "[86.         93.         82.         91.33333333 90.        ]\n",
      "93\n",
      "[94 88]\n",
      "[[ 92  94  88  91  87]\n",
      " [ 79 100  86  93  91]\n",
      " [ 87  85  72  90  92]]\n",
      "87\n",
      "[87 91 92]\n"
     ]
    }
   ],
   "source": [
    "\"\"\"\n",
    "exrecise 3번의 시험에 대한 각 학생별 점수를 numpy 배열로 선언 (test1, test2, test3)\n",
    "\"\"\"\n",
    "test1 = np.array([92, 94, 88, 91, 87])\n",
    "test2 = np.array([79, 100, 86, 93, 91])\n",
    "test3 = np.array([87, 85, 72, 90, 92])\n",
    "\n",
    "# +2 at test3\n",
    "test3_fixed = test3 + 2\n",
    "print(test3_fixed)\n",
    "\n",
    "# get total grade of each student\n",
    "tatal_grade = test1+ test2+ test3\n",
    "print(tatal_grade)\n",
    "\n",
    "# get average score\n",
    "final_grade=tatal_grade/3\n",
    "print(final_grade)\n",
    "\n",
    "# get Jeremy's test2 score\n",
    "jeremy_test2=test2[3]\n",
    "print(jeremy_test2)\n",
    "\n",
    "# get first test scores for Manual and Adwoa \n",
    "manual_adowa_test1 = np.array([test1[1], test1[2]])\n",
    "print(manual_adowa_test1)\n",
    "\n",
    "# save all students score at double lists\n",
    "student_scores = np.array([test1, test2, test3])\n",
    "print(student_scores)\n",
    "\n",
    "# get test3 score of Tanya\n",
    "print(student_scores[2][0])\n",
    "\n",
    "# get all scores of Cody \n",
    "print(student_scores[:, 4]) # :는 전체"
   ]
  },
  {
   "cell_type": "code",
   "execution_count": 36,
   "id": "f35fb101-3b7c-4efc-92ae-f06b459fb5d4",
   "metadata": {},
   "outputs": [
    {
     "name": "stdout",
     "output_type": "stream",
     "text": [
      "[ True False False False False False  True]\n",
      "[10  9]\n",
      "[10  2  2  3  9]\n",
      "[5]\n"
     ]
    }
   ],
   "source": [
    "\"\"\"\n",
    "Logical Operation with arrays\n",
    "\"\"\"\n",
    "# masking\n",
    "a = np.array([10, 2, 2, 4, 5, 3, 9])\n",
    "mask = a > 5\n",
    "print(mask)\n",
    "\n",
    "# select using Logical operations\n",
    "selected = a[a > 5]\n",
    "print(selected)\n",
    "\n",
    "# combined Logical operations / &\n",
    "selected = a[(a>6) | (a<4)]\n",
    "print(selected)\n",
    "\n",
    "selected = a[(a>4) & (a<8)]\n",
    "print(selected)\n"
   ]
  },
  {
   "cell_type": "code",
   "execution_count": 48,
   "id": "fda85eab-ab84-4f3f-b22d-07babb804c71",
   "metadata": {},
   "outputs": [
    {
     "name": "stdout",
     "output_type": "stream",
     "text": [
      "[79 65 50 63 56 90 85 98 79 51]\n",
      "[50 56 51]\n",
      "[90 85 98]\n",
      "[79 65 63 79]\n"
     ]
    }
   ],
   "source": [
    "# exer2\n",
    "porridge = np.array([79, 65, 50, 63, 56, 90, 85, 98, 79, 51])\n",
    "print(porridge)\n",
    "\n",
    "# porridge under 60\n",
    "cold = porridge[porridge < 60]\n",
    "print(cold)\n",
    "\n",
    "# porridge over 80\n",
    "hot = porridge[porridge > 80]\n",
    "print(hot)\n",
    "\n",
    "#  prridge over 60 under 80\n",
    "just_right = porridge[(porridge >= 60) & (porridge <= 80)]\n",
    "print(just_right)"
   ]
  },
  {
   "cell_type": "code",
   "execution_count": null,
   "id": "0bb5271f-7c45-4228-acb4-44d9e1327663",
   "metadata": {},
   "outputs": [],
   "source": []
  }
 ],
 "metadata": {
  "kernelspec": {
   "display_name": "Python 3",
   "language": "python",
   "name": "python3"
  },
  "language_info": {
   "codemirror_mode": {
    "name": "ipython",
    "version": 3
   },
   "file_extension": ".py",
   "mimetype": "text/x-python",
   "name": "python",
   "nbconvert_exporter": "python",
   "pygments_lexer": "ipython3",
   "version": "3.8.8"
  }
 },
 "nbformat": 4,
 "nbformat_minor": 5
}
