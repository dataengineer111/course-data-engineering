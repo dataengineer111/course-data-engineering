{
 "cells": [
  {
   "cell_type": "code",
   "execution_count": 6,
   "id": "d97fa25b-e3ad-417a-9353-dceeb79932bc",
   "metadata": {},
   "outputs": [
    {
     "name": "stdout",
     "output_type": "stream",
     "text": [
      "2\n",
      "4\n"
     ]
    }
   ],
   "source": [
    "\"\"\"\n",
    "Function vs Method\n",
    "\"\"\"\n",
    "# 삽씨를 화씨로\n",
    "# def fahr_to_celsius(temp):\n",
    "#     return((temp-32) * (5/9))\n",
    "\n",
    "def my_function(x):\n",
    "    return x + 1\n",
    "y=3\n",
    "my_function(y)\n",
    "\n",
    "# method: 클래스 내에 정의된 함수\n",
    "x=1\n",
    "class my_class:\n",
    "    def my_method(self):\n",
    "        return x + 1\n",
    "    \n",
    "cls = my_class()\n",
    "\n",
    "print(cls.my_method())\n",
    "\n",
    "x=1\n",
    "class my_class:\n",
    "    @staticmethod\n",
    "    def my_method(x):\n",
    "        return x + 1\n",
    "    \n",
    "cls = my_class()\n",
    "\n",
    "print(cls.my_method(3))"
   ]
  },
  {
   "cell_type": "code",
   "execution_count": 8,
   "id": "a8af56eb-b653-40c3-a4a7-e86ffaa75902",
   "metadata": {},
   "outputs": [
    {
     "name": "stdout",
     "output_type": "stream",
     "text": [
      "2021is not a leap year.\n"
     ]
    }
   ],
   "source": [
    "\"\"\"\n",
    "Return Keyword\n",
    "\"\"\"\n",
    "\n",
    "# Leap year: 윤년(2월 29일 까지)\n",
    "\n",
    "def check_leap_year(year):\n",
    "    if year % 4 == 0:\n",
    "        return str(year) + \"is a leap year.\"\n",
    "    else:\n",
    "        return str(year) + \"is not a leap year.\"\n",
    "    \n",
    "result = check_leap_year(2021)\n",
    "print(result)"
   ]
  },
  {
   "cell_type": "code",
   "execution_count": 10,
   "id": "91cc1779-7155-4999-9a5f-cdce8783541b",
   "metadata": {},
   "outputs": [
    {
     "name": "stdout",
     "output_type": "stream",
     "text": [
      "9 16 25\n"
     ]
    }
   ],
   "source": [
    "\"\"\"\n",
    "Returning Multiple Values\n",
    "\"\"\"\n",
    "\n",
    "def square_point(x, y, z):\n",
    "    x_squared = x ** 2\n",
    "    y_squared = y ** 2\n",
    "    z_squared = z ** 2\n",
    "    return x_squared, y_squared, z_squared\n",
    "\n",
    "three_squared, four_squared, five_squared = square_point(3, 4, 5)\n",
    "\n",
    "print(three_squared, four_squared, five_squared)"
   ]
  },
  {
   "cell_type": "code",
   "execution_count": 18,
   "id": "f1c3739f-6d8f-440f-a935-00d74cf0408d",
   "metadata": {},
   "outputs": [
    {
     "name": "stdout",
     "output_type": "stream",
     "text": [
      "Hello\n",
      "hello\n"
     ]
    },
    {
     "ename": "NameError",
     "evalue": "name 'b' is not defined",
     "output_type": "error",
     "traceback": [
      "\u001b[1;31m---------------------------------------------------------------------------\u001b[0m",
      "\u001b[1;31mNameError\u001b[0m                                 Traceback (most recent call last)",
      "\u001b[1;32m<ipython-input-18-83d7d7f0ee97>\u001b[0m in \u001b[0;36m<module>\u001b[1;34m\u001b[0m\n\u001b[0;32m     15\u001b[0m \u001b[1;33m\u001b[0m\u001b[0m\n\u001b[0;32m     16\u001b[0m \u001b[0mprints_a\u001b[0m\u001b[1;33m(\u001b[0m\u001b[1;33m)\u001b[0m\u001b[1;33m\u001b[0m\u001b[1;33m\u001b[0m\u001b[0m\n\u001b[1;32m---> 17\u001b[1;33m \u001b[0mprint\u001b[0m\u001b[1;33m(\u001b[0m\u001b[0mb\u001b[0m\u001b[1;33m)\u001b[0m\u001b[1;33m\u001b[0m\u001b[1;33m\u001b[0m\u001b[0m\n\u001b[0m",
      "\u001b[1;31mNameError\u001b[0m: name 'b' is not defined"
     ]
    }
   ],
   "source": [
    "\"\"\"\n",
    "Global Variables\n",
    "\"\"\"\n",
    "\n",
    "a = \"Hello\"\n",
    "\n",
    "def prints_a():\n",
    "    print(a)\n",
    "    \n",
    "prints_a()\n",
    "\n",
    "def prints_a():\n",
    "    b = \"hello\"\n",
    "    print(b)\n",
    "    \n",
    "prints_a()\n",
    "print(b)"
   ]
  },
  {
   "cell_type": "code",
   "execution_count": 26,
   "id": "8b93904c-a891-47a4-86b6-1894f091d42d",
   "metadata": {},
   "outputs": [
    {
     "name": "stdout",
     "output_type": "stream",
     "text": [
      "5\n",
      "2\n"
     ]
    }
   ],
   "source": [
    "\"\"\"\n",
    "Local Variables\n",
    "\"\"\"\n",
    "\n",
    "a=5\n",
    "def f1():\n",
    "    a=2\n",
    "    print(a)\n",
    "    \n",
    "print(a)\n",
    "f1()"
   ]
  },
  {
   "cell_type": "code",
   "execution_count": 27,
   "id": "c713c5a9-71d2-4374-b5ac-7566493b85c7",
   "metadata": {},
   "outputs": [
    {
     "data": {
      "text/plain": [
       "'\\n함수의 입력이 많을 경우?\\n\\n1.키워드인자: 함수 호출 시 매개변수명과 인자 값을 같이 입력으로 제공\\n-매개변수 순서와 상관없이 인자를 전달 가능\\n\\n2.디폴트 값: 함수에 정의된 매개변수의 기본 값\\n-함수 호출 시 인자가 없어도 동작\\n\\n'"
      ]
     },
     "execution_count": 27,
     "metadata": {},
     "output_type": "execute_result"
    }
   ],
   "source": [
    "\"\"\"\n",
    "함수의 입력이 많을 경우?\n",
    "\n",
    "1.키워드인자: 함수 호출 시 매개변수명과 인자 값을 같이 입력으로 제공\n",
    "-매개변수 순서와 상관없이 인자를 전달 가능\n",
    "\n",
    "2.디폴트 값: 함수에 정의된 매개변수의 기본 값\n",
    "-함수 호출 시 인자가 없어도 동작\n",
    "\n",
    "\"\"\""
   ]
  },
  {
   "cell_type": "code",
   "execution_count": 28,
   "id": "d4fff058-8105-41e3-a9d1-8e1aba220ccd",
   "metadata": {},
   "outputs": [
    {
     "name": "stdout",
     "output_type": "stream",
     "text": [
      "Height = 1\n",
      "Weight = 2\n",
      "Depth = 3\n",
      "6\n",
      "Height = 2\n",
      "Weight = 1\n",
      "Depth = 3\n",
      "6\n",
      "Height = 1\n",
      "Weight = 2\n",
      "Depth = 3\n",
      "6\n"
     ]
    }
   ],
   "source": [
    "\"\"\"\n",
    "Keyword Arguments and Default Values\n",
    "\"\"\"\n",
    "\n",
    "def findvolume(height, width, depth):\n",
    "    print(\"Height = \" + str(height))# str(): 어떤 값을 문자열로 변환\n",
    "    print(\"Weight = \" + str(width))\n",
    "    print(\"Depth = \" + str(depth))\n",
    "    return height * width * depth\n",
    "\n",
    "# 예제: 높이:1 넓이2, 깊이:3\n",
    "print(findvolume(1, 2, 3))\n",
    "print(findvolume(2, 1, 3))\n",
    "print(findvolume(width=2, height=1, depth=3))"
   ]
  }
 ],
 "metadata": {
  "kernelspec": {
   "display_name": "Python 3",
   "language": "python",
   "name": "python3"
  },
  "language_info": {
   "codemirror_mode": {
    "name": "ipython",
    "version": 3
   },
   "file_extension": ".py",
   "mimetype": "text/x-python",
   "name": "python",
   "nbconvert_exporter": "python",
   "pygments_lexer": "ipython3",
   "version": "3.8.8"
  }
 },
 "nbformat": 4,
 "nbformat_minor": 5
}
