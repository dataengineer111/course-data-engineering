{
 "cells": [
  {
   "cell_type": "code",
   "execution_count": 5,
   "id": "0b11958f-b010-46a7-8e3a-56ab841c10c6",
   "metadata": {},
   "outputs": [
    {
     "name": "stdout",
     "output_type": "stream",
     "text": [
      "<class 'bool'>\n",
      "<class 'float'>\n"
     ]
    }
   ],
   "source": [
    "\"\"\"\n",
    "boolean variables\n",
    "\"\"\"\n",
    "# type 변수를 통해 변수의 데이터 타입을 출력\n",
    "is_tested = False\n",
    "print(type(is_tested))\n",
    "\n",
    "a=3.14\n",
    "print(type(a))\n"
   ]
  },
  {
   "cell_type": "markdown",
   "id": "94f0c31b-5018-41b8-82c4-6023d77ea445",
   "metadata": {
    "tags": []
   },
   "source": [
    " == 은 같다 = 은 대입"
   ]
  },
  {
   "cell_type": "code",
   "execution_count": 10,
   "id": "4a0e9f14-2ff8-4da2-9f5e-4a38481ce5e4",
   "metadata": {},
   "outputs": [
    {
     "name": "stdout",
     "output_type": "stream",
     "text": [
      "말티즈.\n",
      "말티즈새끼\n",
      "True\n"
     ]
    }
   ],
   "source": [
    "\"\"\"\n",
    "Conditional statements(if/elif/else)\n",
    "\"\"\"\n",
    "\n",
    "puppy = \"maltese\"\n",
    "age = 1\n",
    "is_yes = False\n",
    "# 모든 조건문(제어문)의 끝부분에는 : 을 붙인다\n",
    "if puppy == \"maltese\":\n",
    "    print(\"말티즈.\")\n",
    "    is_yes = True\n",
    "    \n",
    "    if age < 3:\n",
    "        print(\"말티즈새끼\")\n",
    "    \n",
    "elif puppy == \"poodle\":\n",
    "    print(\"푸들.\")\n",
    "    is_yes = True\n",
    "    \n",
    "elif puppy == \"shihtzu\":\n",
    "    print(\"시추.\")\n",
    "    is_yes = True\n",
    "\n",
    "else:\n",
    "    print(\"말티푸.\")\n",
    "    is_yes = True\n",
    "    \n",
    "print(is_yes)\n",
    "    "
   ]
  },
  {
   "cell_type": "code",
   "execution_count": 13,
   "id": "53cbf17e-6ed1-41ad-b265-f192dd1d4bc6",
   "metadata": {},
   "outputs": [
    {
     "name": "stdout",
     "output_type": "stream",
     "text": [
      "[Error]\n",
      "continue\n"
     ]
    }
   ],
   "source": [
    "\"\"\"\n",
    "Handling Exception\n",
    "\"\"\"\n",
    "\n",
    "x = 1\n",
    "\n",
    "try:\n",
    "    print(y)\n",
    "    print(x)\n",
    "    \n",
    "except:\n",
    "    print(\"[Error]\")\n",
    "    \n",
    "print(\"continue\")"
   ]
  },
  {
   "cell_type": "code",
   "execution_count": null,
   "id": "97eb65c7-0696-4b17-a11d-42b6c7372db3",
   "metadata": {},
   "outputs": [],
   "source": []
  }
 ],
 "metadata": {
  "kernelspec": {
   "display_name": "Python 3",
   "language": "python",
   "name": "python3"
  },
  "language_info": {
   "codemirror_mode": {
    "name": "ipython",
    "version": 3
   },
   "file_extension": ".py",
   "mimetype": "text/x-python",
   "name": "python",
   "nbconvert_exporter": "python",
   "pygments_lexer": "ipython3",
   "version": "3.8.8"
  }
 },
 "nbformat": 4,
 "nbformat_minor": 5
}
