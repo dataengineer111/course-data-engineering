{
 "cells": [
  {
   "cell_type": "code",
   "execution_count": 4,
   "id": "f1973bdd-1315-4072-b69a-a9ac7a7086c8",
   "metadata": {},
   "outputs": [
    {
     "name": "stdout",
     "output_type": "stream",
     "text": [
      "[2, 3, 5, 7, 11, 2]\n",
      "[]\n"
     ]
    }
   ],
   "source": [
    "\"\"\"\n",
    "Lists\n",
    "\"\"\"\n",
    "# Allow duplicates\n",
    "primes = [2, 3, 5, 7, 11, 2]\n",
    "print(primes)\n",
    "\n",
    "empty_list = []\n",
    "print(empty_list)"
   ]
  },
  {
   "cell_type": "code",
   "execution_count": 51,
   "id": "3785e29c-b56d-4915-87e6-d3508b5da6ef",
   "metadata": {},
   "outputs": [
    {
     "name": "stdout",
     "output_type": "stream",
     "text": [
      "['jenny', 1, 1.4, True]\n",
      "jenny\n",
      "[['a', 1], ['b', 2]]\n"
     ]
    }
   ],
   "source": [
    "\"\"\"\n",
    "Multiple different data types\n",
    "\"\"\"\n",
    "# Allow different data types ex)int, string, boolean, etc..\n",
    "\n",
    "mixed = [\"jenny\", 1, 1.4, True]\n",
    "print(mixed)\n",
    "list_of_lists = [[\"a\", 1], [\"b\", 2]]\n",
    "# zero-indexing\n",
    "print(mixed[0]) \n",
    "print(list_of_lists)"
   ]
  },
  {
   "cell_type": "code",
   "execution_count": 19,
   "id": "eb785415-95b0-4e7f-a966-31974b7eff9b",
   "metadata": {},
   "outputs": [
    {
     "name": "stdout",
     "output_type": "stream",
     "text": [
      "Roger\n",
      "Rafael\n",
      "Andy\n",
      "Novak\n"
     ]
    }
   ],
   "source": [
    "\"\"\"\n",
    "Zero-indexing\n",
    "\"\"\"\n",
    "\n",
    "names = ['Roger', 'Rafael', 'Andy', 'Novak']\n",
    "print(names[0]) #first data\n",
    "print(names[1])\n",
    "print(names[2])\n",
    "print(names[3])"
   ]
  },
  {
   "cell_type": "code",
   "execution_count": 20,
   "id": "d62c64be-c7e7-4fd4-9da2-d226d66038ad",
   "metadata": {},
   "outputs": [
    {
     "name": "stdout",
     "output_type": "stream",
     "text": [
      "Novak\n",
      "Andy\n",
      "Rafael\n",
      "Roger\n"
     ]
    }
   ],
   "source": [
    "\"\"\"\n",
    "Negative indexing\n",
    "\"\"\"\n",
    "\n",
    "print(names[-1]) #last data\n",
    "print(names[-2]) #second to last data\n",
    "print(names[-3])\n",
    "print(names[-4])"
   ]
  },
  {
   "cell_type": "code",
   "execution_count": 28,
   "id": "f0b73d8f-e065-4ce2-a5de-ac66110401b0",
   "metadata": {},
   "outputs": [
    {
     "name": "stdout",
     "output_type": "stream",
     "text": [
      "['만우관', '장공관', '필헌관', '소통관']\n",
      "['생활관', '필헌관', '소통관']\n",
      "['만우관', '장공관', '필헌관', '소통관', '송암관', '늦봄관', '장준하통일관']\n",
      "['만우관', '장공관', '필헌관', '소통관', '송암관', '늦봄관', '장준하통일관']\n"
     ]
    }
   ],
   "source": [
    "\"\"\"\n",
    "List slicing\n",
    "\"\"\"\n",
    "hsu_buildings = ['만우관', '장공관', '필헌관', '소통관', '송암관', '늦봄관', '장준하통일관']\n",
    "building_slice1 = hsu_buildings[:4] # start(0)~3, null to 3\n",
    "print(building_slice1)\n",
    "\n",
    "building_slice2 = hsu_buildings[1:4] # 1~3\n",
    "building_slice2[0] = '생활관' #change item from 만우관 to 생활관\n",
    "print(building_slice2) #슬라이스 값이 변해도 원본값은 유지\n",
    "print(hsu_buildings)\n",
    "print(hsu_buildings[:])\n",
    "\n",
    "# [:4] null to 3 (from start to 3)\n",
    "# [4:] 3 to null(from 3 to end)\n",
    "# [:] null to null(all items)\n"
   ]
  },
  {
   "cell_type": "code",
   "execution_count": 33,
   "id": "c9a22f78-e3a2-4c6f-92ee-e4a97cf3402b",
   "metadata": {},
   "outputs": [
    {
     "name": "stdout",
     "output_type": "stream",
     "text": [
      "중화비빔밥\n",
      "[['해우리', '한식', '고S'], ['짜장명가', '중식', '중화비빔밥'], ['찌개동아리', '한식', '제육전골'], ['맘스터치', '양식', '싸이버거']]\n",
      "['해우리', '한식', '해우라면']\n"
     ]
    }
   ],
   "source": [
    "\"\"\"\n",
    "Multi-dimensional Lists (2차원 리스트)\n",
    "\"\"\"\n",
    "\n",
    "restaurants = [['해우리', '한식', '고S'], ['짜장명가', '중식', '중화비빔밥'], \n",
    "               ['찌개동아리', '한식', '제육전골'], ['맘스터치', '양식', '싸이버거']]\n",
    "\n",
    "print(restaurants[1][2])\n",
    "print(restaurants)\n",
    "restaurants[0][2] = '해우라면'\n",
    "print(restaurants[0])\n"
   ]
  },
  {
   "cell_type": "code",
   "execution_count": 35,
   "id": "86818090-9d29-4894-8e77-239c3f76472c",
   "metadata": {},
   "outputs": [
    {
     "name": "stdout",
     "output_type": "stream",
     "text": [
      "['cake', 'cookie', 'bread', 'biscuit', 'tart']\n"
     ]
    }
   ],
   "source": [
    "\"\"\"\n",
    "Adding Lists Together\n",
    "\"\"\"\n",
    "\n",
    "items_one = ['cake', 'cookie', 'bread']\n",
    "items_two = ['biscuit', 'tart']\n",
    "\n",
    "tatal_items = items_one + items_two\n",
    "print(tatal_items)\n"
   ]
  },
  {
   "cell_type": "code",
   "execution_count": 47,
   "id": "eac6ad07-84df-4101-ac8e-3d188a1cef01",
   "metadata": {},
   "outputs": [
    {
     "name": "stdout",
     "output_type": "stream",
     "text": [
      "5\n",
      "3\n",
      "['daisies', 'periwinkle', 'rose']\n",
      "['Karla', 'Maxium', 'Vickor', 'Martin', 'Isabella']\n",
      "['국어', '영어', '과학', '도덕']\n",
      "['국어', '영어', '과학']\n",
      "['영어', '과학']\n"
     ]
    },
    {
     "ename": "ValueError",
     "evalue": "list.remove(x): x not in list",
     "output_type": "error",
     "traceback": [
      "\u001b[1;31m---------------------------------------------------------------------------\u001b[0m",
      "\u001b[1;31mValueError\u001b[0m                                Traceback (most recent call last)",
      "\u001b[1;32m<ipython-input-47-74163e11532c>\u001b[0m in \u001b[0;36m<module>\u001b[1;34m\u001b[0m\n\u001b[0;32m     33\u001b[0m \u001b[0msub\u001b[0m\u001b[1;33m.\u001b[0m\u001b[0mremove\u001b[0m\u001b[1;33m(\u001b[0m\u001b[1;34m'국어'\u001b[0m\u001b[1;33m)\u001b[0m\u001b[1;33m\u001b[0m\u001b[1;33m\u001b[0m\u001b[0m\n\u001b[0;32m     34\u001b[0m \u001b[0mprint\u001b[0m\u001b[1;33m(\u001b[0m\u001b[0msub\u001b[0m\u001b[1;33m)\u001b[0m\u001b[1;33m\u001b[0m\u001b[1;33m\u001b[0m\u001b[0m\n\u001b[1;32m---> 35\u001b[1;33m \u001b[0msub\u001b[0m\u001b[1;33m.\u001b[0m\u001b[0mremove\u001b[0m\u001b[1;33m(\u001b[0m\u001b[1;34m'Algorithms'\u001b[0m\u001b[1;33m)\u001b[0m\u001b[1;33m\u001b[0m\u001b[1;33m\u001b[0m\u001b[0m\n\u001b[0m\u001b[0;32m     36\u001b[0m \u001b[0mprint\u001b[0m\u001b[1;33m(\u001b[0m\u001b[0msub\u001b[0m\u001b[1;33m)\u001b[0m\u001b[1;33m\u001b[0m\u001b[1;33m\u001b[0m\u001b[0m\n",
      "\u001b[1;31mValueError\u001b[0m: list.remove(x): x not in list"
     ]
    }
   ],
   "source": [
    "\"\"\"\n",
    "Useful Methods for Lists\n",
    "\"\"\"\n",
    "\n",
    "# Len() - list size - HtoU = len(listname)\n",
    "knapsack = [2, 4, 3, 7, 10]\n",
    "size = len(knapsack)\n",
    "print(size)\n",
    "\n",
    "# count() - HtoU = listname.count(item)\n",
    "backpack = ['pencil', 'pen', 'notebook', 'textbook', 'pen', 'highlighter', 'pen']\n",
    "numPen = backpack.count('pen')\n",
    "print(numPen)\n",
    "\n",
    "# append() - add item at the end of the list - HtoU = listname.append(item)\n",
    "orders = ['daisies', 'periwinkle']\n",
    "orders.append('rose')\n",
    "print(orders)\n",
    "\n",
    "# insert() - add item whereever user wants - HtoU = listname.insert(index, item)\n",
    "store_line = ['Karla', 'Maxium', 'Martin', 'Isabella']\n",
    "store_line.insert(2, 'Vickor')\n",
    "print(store_line)\n",
    "\n",
    "# pop() - delete item whereever user wants - HtoU = listname.pop(index)\n",
    "sub = ['국어', '영어', '수학', '과학', '도덕']\n",
    "sub.pop(2)\n",
    "print(sub)\n",
    "sub.pop() #delete the last item from the list\n",
    "print(sub)\n",
    "\n",
    "# remove() - delete item whatever user wants - HtoU = listname.remove(item)\n",
    "sub.remove('국어')\n",
    "print(sub)\n",
    "sub.remove('Algorithms')\n",
    "print(sub)\n"
   ]
  },
  {
   "cell_type": "code",
   "execution_count": 50,
   "id": "9743c935-2e3f-4d84-8175-259686f553ec",
   "metadata": {},
   "outputs": [
    {
     "name": "stdout",
     "output_type": "stream",
     "text": [
      "[1, 2, 3, 4]\n",
      "['늦봄관', '만우관', '소통관', '송암관', '장공관', '장준하통일관', '필헌관']\n",
      "[1, 2, 3, 4]\n",
      "[4, 2, 1, 3]\n"
     ]
    }
   ],
   "source": [
    "# sort() - sort items at list - HtoU = listname.sort()\n",
    "num = [4, 2, 1, 3]\n",
    "num.sort()\n",
    "print(num)\n",
    "\n",
    "hsu_buildings = ['만우관', '장공관', '필헌관', '소통관', '송암관', '늦봄관', '장준하통일관']\n",
    "hsu_buildings.sort()\n",
    "print(hsu_buildings)\n",
    "\n",
    "# sorted() - return sorted list - HtoU = sorted_listname = sorted(listname)\n",
    "num2 = [4, 2, 1, 3]\n",
    "sorted_num2 = sorted(num2)\n",
    "print(sorted_num2)\n",
    "print(num2) #원본객체의 값을 유지할수 있음\n"
   ]
  }
 ],
 "metadata": {
  "kernelspec": {
   "display_name": "Python 3",
   "language": "python",
   "name": "python3"
  },
  "language_info": {
   "codemirror_mode": {
    "name": "ipython",
    "version": 3
   },
   "file_extension": ".py",
   "mimetype": "text/x-python",
   "name": "python",
   "nbconvert_exporter": "python",
   "pygments_lexer": "ipython3",
   "version": "3.8.8"
  }
 },
 "nbformat": 4,
 "nbformat_minor": 5
}
