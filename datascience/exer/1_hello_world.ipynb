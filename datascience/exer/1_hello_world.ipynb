{
 "cells": [
  {
   "cell_type": "code",
   "execution_count": 7,
   "id": "1d753a61-e9ba-40c5-8d19-1038a6e93a13",
   "metadata": {},
   "outputs": [
    {
     "name": "stdout",
     "output_type": "stream",
     "text": [
      "Hello World!\n",
      "100\n",
      "3.14\n",
      "My name is Jae Yeon!\n"
     ]
    }
   ],
   "source": [
    "\"\"\"\n",
    "print() function\n",
    "\"\"\"\n",
    "\n",
    "print(\"Hello World!\")\n",
    "print(100)\n",
    "pi = 3.14\n",
    "print(pi)\n",
    "\n",
    "intro = \"My name is \"\n",
    "name = \"Jae Yeon\"\n",
    "print(intro + name + \"!\")\n"
   ]
  },
  {
   "cell_type": "code",
   "execution_count": 9,
   "id": "8076eb58-a6f8-40b9-8214-99e9186baca0",
   "metadata": {},
   "outputs": [],
   "source": [
    "\"\"\"\n",
    "Variables\n",
    "\"\"\"\n",
    "\n",
    "# 나를 표현할 수 있는 정보 세가지 이상\n",
    "user_age = 26\n",
    "user_name = \"Jae Yeon\"\n",
    "user_dept = \"소프트웨어 융합학부\"\n",
    "duty_of_army = True\n"
   ]
  },
  {
   "cell_type": "code",
   "execution_count": 10,
   "id": "a39a8509-8833-4cdb-a9b3-f5f7e3b4e914",
   "metadata": {},
   "outputs": [],
   "source": [
    "\"\"\"\n",
    "Data Types: Integers\n",
    "\"\"\"\n",
    "\n",
    "# 집에 있는 세 가지 이상의 사물의 갯수를 정수로 표현하시오.\n",
    "\n",
    "notebooks = 3\n",
    "headphones = 2\n",
    "televisons = 2\n",
    "broken_notebook = -1\n"
   ]
  },
  {
   "cell_type": "code",
   "execution_count": 11,
   "id": "eaf041c6-87fe-4d68-b305-d3c549f68a65",
   "metadata": {},
   "outputs": [],
   "source": [
    "\"\"\"\n",
    "Data Types: Real Numbers\n",
    "\"\"\"\n",
    "\n",
    "# 본인이 알고있는 세 개의 실수를 변수로 정의하시오.\n",
    "pi = 3.14\n",
    "A = 1.1592\n",
    "B = 112.2114"
   ]
  },
  {
   "cell_type": "code",
   "execution_count": 23,
   "id": "ed333edb-1ff7-465c-b237-9d101bc11e4d",
   "metadata": {},
   "outputs": [
    {
     "name": "stdout",
     "output_type": "stream",
     "text": [
      " From zero to hero\n",
      " Battle Ground\n",
      " Neymar\n",
      " From zero to hero Battle Ground Neymar\n"
     ]
    }
   ],
   "source": [
    "\"\"\"\n",
    "Data Types: Strings\n",
    "\"\"\"\n",
    "\n",
    "favorite_motto = \" From zero to hero\"\n",
    "favorite_game = \" Battle Ground\"\n",
    "favorite_athlete = \" Neymar\"\n",
    "\n",
    "print(favorite_motto)\n",
    "print(favorite_game)\n",
    "print(favorite_athlete)\n",
    "\n",
    "favorites = favorite_motto + favorite_game + favorite_athlete\n",
    "print(favorites)"
   ]
  },
  {
   "cell_type": "code",
   "execution_count": 32,
   "id": "b96242bd-deff-4911-a3a8-1cfbd54be330",
   "metadata": {},
   "outputs": [
    {
     "name": "stdout",
     "output_type": "stream",
     "text": [
      "4\n",
      "3\n",
      "6\n",
      "36\n",
      "37\n",
      "36\n"
     ]
    }
   ],
   "source": [
    "\"\"\"\n",
    "x-Equals Operations\n",
    "\"\"\"\n",
    "\n",
    "a=2\n",
    "a+=2\n",
    "print(a)\n",
    "a-=1\n",
    "print(a)\n",
    "a*=2\n",
    "print(a)\n",
    "a**=2\n",
    "print(a)\n",
    "b = a + 1\n",
    "print(b)\n",
    "b = a\n",
    "print(b)"
   ]
  },
  {
   "cell_type": "code",
   "execution_count": 33,
   "id": "d7592fd1-6187-42e7-87c0-31b1c2551530",
   "metadata": {},
   "outputs": [
    {
     "ename": "NameError",
     "evalue": "name 'my_name' is not defined",
     "output_type": "error",
     "traceback": [
      "\u001b[1;31m---------------------------------------------------------------------------\u001b[0m",
      "\u001b[1;31mNameError\u001b[0m                                 Traceback (most recent call last)",
      "\u001b[1;32m<ipython-input-33-d5b464f51943>\u001b[0m in \u001b[0;36m<module>\u001b[1;34m\u001b[0m\n\u001b[0;32m      4\u001b[0m \u001b[1;31m# Name Erorr\u001b[0m\u001b[1;33m\u001b[0m\u001b[1;33m\u001b[0m\u001b[1;33m\u001b[0m\u001b[0m\n\u001b[0;32m      5\u001b[0m \u001b[1;31m# my_name 변수 선언 전에는 저장되지 않은 변수가 호출 되는 것 이기에 오류발생\u001b[0m\u001b[1;33m\u001b[0m\u001b[1;33m\u001b[0m\u001b[1;33m\u001b[0m\u001b[0m\n\u001b[1;32m----> 6\u001b[1;33m \u001b[0mprint\u001b[0m\u001b[1;33m(\u001b[0m\u001b[0mmy_name\u001b[0m\u001b[1;33m)\u001b[0m\u001b[1;33m\u001b[0m\u001b[1;33m\u001b[0m\u001b[0m\n\u001b[0m\u001b[0;32m      7\u001b[0m \u001b[0mmy_name\u001b[0m \u001b[1;33m=\u001b[0m \u001b[1;34m\"jaeyeon\"\u001b[0m\u001b[1;33m\u001b[0m\u001b[1;33m\u001b[0m\u001b[0m\n",
      "\u001b[1;31mNameError\u001b[0m: name 'my_name' is not defined"
     ]
    }
   ],
   "source": [
    "\"\"\"\n",
    "Erorrs\n",
    "\"\"\"\n",
    "# Name Erorr\n",
    "# my_name 변수 선언 전에는 저장되지 않은 변수가 호출 되는 것 이기에 오류발생\n",
    "print(my_name)\n",
    "my_name = \"jaeyeon\"\n"
   ]
  },
  {
   "cell_type": "markdown",
   "id": "86031b81-241f-44a0-b29e-f16622312816",
   "metadata": {},
   "source": [
    "아레 코드는 코드 입니다."
   ]
  },
  {
   "cell_type": "code",
   "execution_count": null,
   "id": "838b1504-5af4-4948-bfc9-59f19e827307",
   "metadata": {},
   "outputs": [],
   "source": []
  }
 ],
 "metadata": {
  "kernelspec": {
   "display_name": "Python 3",
   "language": "python",
   "name": "python3"
  },
  "language_info": {
   "codemirror_mode": {
    "name": "ipython",
    "version": 3
   },
   "file_extension": ".py",
   "mimetype": "text/x-python",
   "name": "python",
   "nbconvert_exporter": "python",
   "pygments_lexer": "ipython3",
   "version": "3.8.8"
  }
 },
 "nbformat": 4,
 "nbformat_minor": 5
}
