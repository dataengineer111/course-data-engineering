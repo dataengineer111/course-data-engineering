"""
data engineering hw1  hs.uni.201555090
"""

# 1 description about item
lovely_loveseat_description = "Lovely Loveseat. Tufted polyester blend on wood. 32 inches high x 40 inches wide x 30 inches deep. Red or white."

# 2 pricing
lovely_loveseat_price = 254.00

# 3 add item
stylish_settee_description = " Stylish Settee. Faux leather on birch. 29.50 inches high x 54.75 inches wide x 28 inches deep. Black."

# 4 pricing
stylish_settee_price = 180.50

# 5 add item
luxurious_lamp_description = " Luxurious Lamp. Glass and iron. 36 inches tall. Brown with cream shade."

# 6 pricing
luxurious_lamp_price = 52.15

# 7 justice sales_tax
sales_tax = 0.088

# customer in
# 8 defining total price 0
customer_one_total = 0

# 9 description of their purchase
customer_one_itemization = ""

# 10 add price of Lovely Loveseat
customer_one_total += lovely_loveseat_price

# 11 add description of Lovely Loveseat
customer_one_itemization += lovely_loveseat_description

# 12 add price Luxurious Lamp
customer_one_total += luxurious_lamp_price

# 13 add description of Luxurious Lamp
customer_one_itemization += luxurious_lamp_description

# 14 add sales tax
customer_one_tax = 0
customer_one_tax = customer_one_total * sales_tax

# 15 add sales tax to total cost
customer_one_total += customer_one_tax

# 16 organize receipt
print("Customer One Items:")

# 17 print description of items
print(customer_one_itemization)

# 18 print "total cost" to the receipt
print("Customer One Total:")

# 19 print total cost
print(customer_one_total)

# 20 finish! result!
Customer One Items:
Lovely Loveseat. Tufted polyester blend on wood. 32 inches high x 40 inches wide x 30 inches deep. Red or white. Luxurious Lamp. Glass and iron. 36 inches tall. Brown with cream shade.
Customer One Total:
333.09119999999996

