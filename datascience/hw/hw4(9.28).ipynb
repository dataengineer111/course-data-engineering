{
 "cells": [
  {
   "cell_type": "code",
   "execution_count": 78,
   "id": "8546d6b9-0396-4c74-bb0a-7806ee45aa16",
   "metadata": {},
   "outputs": [
    {
     "name": "stdout",
     "output_type": "stream",
     "text": [
      "당신의 조선시대 이름은 조팽자 입니다\n"
     ]
    }
   ],
   "source": [
    "\"\"\"\n",
    "data engineering hw4 hs.uni.201555090\n",
    "\"\"\"\n",
    "# 1 months\n",
    "months = ['쌍', '쇠', '복', '돌', '팽', '육', '쌍', '개', '칠', '갑', '삼', '방']\n",
    "\n",
    "# 2 days\n",
    "days = ['봉', '구', '욕', '포', '똥', '삼', '식', '석', '놈', '님', '년', '돌', '단','득', '방',\n",
    "       '질', '장','걸', '래', '룡', '동', '순', '자', '박', '창', '언', '것', '포', '만', '단', '국']\n",
    "\n",
    "# 3 make function\n",
    "def get_my_chosun_name(family_name, month, day):\n",
    "        month = months[month-1]\n",
    "        day = days[day-1]\n",
    "        print(\"당신의 조선시대 이름은\", family_name + month + day, \"입니다\")\n",
    "        return\n",
    "#         return \"당신의 조선시대 이름은 \" + str(m) + str(d) + \"입니다.\" \n",
    "        \n",
    "# 4 print chosun name using function\n",
    "get_my_chosun_name('조', 5, 23)\n",
    "# print(\"당신의 조선시대 이름은\", f+m+d, \"입니다\")"
   ]
  }
 ],
 "metadata": {
  "kernelspec": {
   "display_name": "Python 3",
   "language": "python",
   "name": "python3"
  },
  "language_info": {
   "codemirror_mode": {
    "name": "ipython",
    "version": 3
   },
   "file_extension": ".py",
   "mimetype": "text/x-python",
   "name": "python",
   "nbconvert_exporter": "python",
   "pygments_lexer": "ipython3",
   "version": "3.8.8"
  }
 },
 "nbformat": 4,
 "nbformat_minor": 5
}
