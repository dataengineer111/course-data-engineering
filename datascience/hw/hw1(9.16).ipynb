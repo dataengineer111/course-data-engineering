{
 "cells": [
  {
   "cell_type": "code",
   "execution_count": 12,
   "id": "cc51eabd-ad88-4373-8622-11b2e868050e",
   "metadata": {},
   "outputs": [
    {
     "name": "stdout",
     "output_type": "stream",
     "text": [
      "Customer One Items:\n",
      "Lovely Loveseat. Tufted polyester blend on wood. 32 inches high x 40 inches wide x 30 inches deep. Red or white. Luxurious Lamp. Glass and iron. 36 inches tall. Brown with cream shade.\n",
      "Customer One Total:\n",
      "333.09119999999996\n"
     ]
    }
   ],
   "source": [
    "\"\"\"\n",
    "data engineering hw1\n",
    "\"\"\"\n",
    "\n",
    "# 1 description about item\n",
    "lovely_loveseat_description = \"Lovely Loveseat. Tufted polyester blend on wood. 32 inches high x 40 inches wide x 30 inches deep. Red or white.\"\n",
    "\n",
    "# 2 pricing\n",
    "lovely_loveseat_price = 254.00\n",
    "\n",
    "# 3 add item\n",
    "stylish_settee_description = \" Stylish Settee. Faux leather on birch. 29.50 inches high x 54.75 inches wide x 28 inches deep. Black.\"\n",
    "\n",
    "# 4 pricing\n",
    "stylish_settee_price = 180.50\n",
    "\n",
    "# 5 add item\n",
    "luxurious_lamp_description = \" Luxurious Lamp. Glass and iron. 36 inches tall. Brown with cream shade.\"\n",
    "\n",
    "# 6 pricing\n",
    "luxurious_lamp_price = 52.15\n",
    "\n",
    "# 7 justice sales_tax\n",
    "sales_tax = 0.088\n",
    "\n",
    "# customer in\n",
    "# 8 defining total price 0\n",
    "customer_one_total = 0\n",
    "\n",
    "# 9 description of their purchase\n",
    "customer_one_itemization = \"\"\n",
    "\n",
    "# 10 add price of Lovely Loveseat\n",
    "customer_one_total += lovely_loveseat_price\n",
    "\n",
    "# 11 add description of Lovely Loveseat\n",
    "customer_one_itemization += lovely_loveseat_description\n",
    "\n",
    "# 12 add price Luxurious Lamp\n",
    "customer_one_total += luxurious_lamp_price\n",
    "\n",
    "# 13 add description of Luxurious Lamp\n",
    "customer_one_itemization += luxurious_lamp_description\n",
    "\n",
    "# 14 add sales tax\n",
    "customer_one_tax = 0\n",
    "customer_one_tax = customer_one_total * sales_tax\n",
    "\n",
    "# 15 add sales tax to total cost\n",
    "customer_one_total += customer_one_tax\n",
    "\n",
    "# 16 organize receipt\n",
    "print(\"Customer One Items:\")\n",
    "\n",
    "# 17 print description of items\n",
    "print(customer_one_itemization)\n",
    "\n",
    "# 18 print \"total cost\" to the receipt\n",
    "print(\"Customer One Total:\")\n",
    "\n",
    "# 19 print total cost\n",
    "print(customer_one_total)\n",
    "\n",
    "# 20 finish!"
   ]
  }
 ],
 "metadata": {
  "kernelspec": {
   "display_name": "Python 3",
   "language": "python",
   "name": "python3"
  },
  "language_info": {
   "codemirror_mode": {
    "name": "ipython",
    "version": 3
   },
   "file_extension": ".py",
   "mimetype": "text/x-python",
   "name": "python",
   "nbconvert_exporter": "python",
   "pygments_lexer": "ipython3",
   "version": "3.8.8"
  }
 },
 "nbformat": 4,
 "nbformat_minor": 5
}
