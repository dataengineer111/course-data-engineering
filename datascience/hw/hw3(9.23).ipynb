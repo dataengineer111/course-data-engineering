{
 "cells": [
  {
   "cell_type": "code",
   "execution_count": 21,
   "id": "1802e598-3be3-4f85-b61e-797c8f8dc474",
   "metadata": {},
   "outputs": [
    {
     "name": "stdout",
     "output_type": "stream",
     "text": [
      "Average price is 31.875\n"
     ]
    }
   ],
   "source": [
    "\"\"\"\n",
    "data engineering hw3 hs.uni.201555090\n",
    "\"\"\"\n",
    "\n",
    "hairstyles = ['bouffant', 'pixie', 'dreadlocks', 'crew', 'bowl', 'bob', 'mohawk', 'flattop']\n",
    "prices = [30, 25, 40, 20, 20, 35, 50, 35]\n",
    "last_week = [2, 3, 5, 8, 4, 4, 6, 2]\n",
    "\n",
    "# 1 add all the prices\n",
    "total_price = 0\n",
    "\n",
    "# 2 add each price\n",
    "for i in prices:\n",
    "    total_price += i\n",
    "    \n",
    "# 3 average of prices\n",
    "average_price = total_price / len(prices)\n",
    "\n",
    "# 4\n",
    "print(\"Average price is \" + str(average_price))\n"
   ]
  },
  {
   "cell_type": "code",
   "execution_count": 22,
   "id": "e27208e9-cd63-4c5e-9a52-886f585b34b8",
   "metadata": {},
   "outputs": [
    {
     "name": "stdout",
     "output_type": "stream",
     "text": [
      "[25, 20, 35, 15, 15, 30, 45, 30]\n"
     ]
    }
   ],
   "source": [
    "# 5 -5$ each of prices\n",
    "new_prices = [i-5 for i in prices]\n",
    "\n",
    "# 6\n",
    "print(new_prices)"
   ]
  },
  {
   "cell_type": "code",
   "execution_count": 23,
   "id": "5ad56f0a-e71c-4e14-bfb8-88b48f47f288",
   "metadata": {},
   "outputs": [
    {
     "name": "stdout",
     "output_type": "stream",
     "text": [
      "1085\n",
      "Average daily revenue is 155.0\n",
      "['bouffant', 'pixie', 'crew', 'bowl']\n"
     ]
    }
   ],
   "source": [
    "# 7 set total_revenue\n",
    "total_revenue = 0\n",
    "\n",
    "# 8 len(hairstyles) = 8\n",
    "i=0\n",
    "for i in range(len(hairstyles)):\n",
    "\n",
    "    # 9 add total revenue\n",
    "    total_revenue += prices[i] * last_week[i]\n",
    "\n",
    "    \n",
    "\n",
    "# 10 print it\n",
    "print(total_revenue)\n",
    "\n",
    "# 11 get daily revenue\n",
    "average_daily_revenue = total_revenue / 7\n",
    "print(\"Average daily revenue is \" + str(average_daily_revenue))\n",
    "# intro = \"Average daily revenue is \"\n",
    "# print(\"Average daily revenue is %0.1f\" %average_daily_revenue) \n",
    "\n",
    "# 12 get hairstyles price under 30\n",
    "cuts_under_30 = [ hairstyles[i] for i in range(len(new_prices)) if new_prices[i] < 30]\n",
    "\n",
    "# 13 print it\n",
    "print(cuts_under_30)\n",
    "    \n",
    "    \n",
    "    \n",
    "#     if i > 9:\n",
    "#         break\n",
    "#     for n in prices:\n",
    "#         for j in last_week:\n",
    "#             while j < 9:        \n",
    "#                  print(\"%d X %d = %d\" % (n, j, n*j))\n",
    "#                  break  \n",
    "    \n",
    "\n",
    "    \n",
    "\n",
    "\n",
    "# for n in prices:\n",
    "    \n",
    "#         for j in last_week:\n",
    "            \n",
    "#             while j < 9:        \n",
    "#                 print(\"%d X %d = %d\" % (n, j, n*j))\n",
    "#                 break\n",
    "# i=prices \n",
    "# j=last_week\n",
    "# total_revenue = prices[i] * last_week[j] \n",
    "# print(total_revenue)"
   ]
  }
 ],
 "metadata": {
  "kernelspec": {
   "display_name": "Python 3",
   "language": "python",
   "name": "python3"
  },
  "language_info": {
   "codemirror_mode": {
    "name": "ipython",
    "version": 3
   },
   "file_extension": ".py",
   "mimetype": "text/x-python",
   "name": "python",
   "nbconvert_exporter": "python",
   "pygments_lexer": "ipython3",
   "version": "3.8.8"
  }
 },
 "nbformat": 4,
 "nbformat_minor": 5
}
